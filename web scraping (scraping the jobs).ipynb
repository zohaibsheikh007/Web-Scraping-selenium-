{
 "cells": [
  {
   "cell_type": "code",
   "execution_count": null,
   "id": "cbc47b85",
   "metadata": {},
   "outputs": [],
   "source": []
  },
  {
   "cell_type": "code",
   "execution_count": 245,
   "id": "05506612",
   "metadata": {},
   "outputs": [],
   "source": [
    "import matplotlib.pyplot as plt\n",
    "import seaborn as sns"
   ]
  },
  {
   "cell_type": "code",
   "execution_count": 28,
   "id": "d88eedbf",
   "metadata": {},
   "outputs": [],
   "source": [
    "import requests\n",
    "from bs4 import BeautifulSoup\n",
    "from seleniumbase import Driver\n",
    "from selenium.webdriver.common.by import By\n",
    "import time\n",
    "import pandas as pd\n",
    "import numpy as np\n",
    "\n",
    "job_data = []\n",
    "\n",
    "driver = Driver()\n",
    "\n",
    "for i in range(2,52):\n",
    "    url = f'https://www.naukri.com/data-science-jobs{-i}?k=data%20science'\n",
    "    driver.get(url)\n",
    "\n",
    "    driver.implicitly_wait(20)\n",
    "    job_wrappers = driver.find_elements(By.CLASS_NAME, \"srp-jobtuple-wrapper\")\n",
    "\n",
    "    for job in job_wrappers:\n",
    "        try:\n",
    "            title = job.find_element(By.CLASS_NAME, \"title\").text\n",
    "        except Exception as e:\n",
    "            title = np.nan\n",
    "        try:\n",
    "            cname_rating_rev = job.find_element(By.CLASS_NAME,\"row2\").text.split('\\n')\n",
    "            company_name = cname_rating_rev[0]\n",
    "        except Exception as e:\n",
    "            company_name = np.nan\n",
    "        try:\n",
    "            rating = cname_rating_rev[1]\n",
    "        except Exception as e:\n",
    "            rating = np.nan\n",
    "        try:\n",
    "            reviews = cname_rating_rev[2]\n",
    "        except Exception as e:\n",
    "            reviews = np.nan\n",
    "            \n",
    "        try:\n",
    "            exp_sal_loc = job.find_element(By.CLASS_NAME, 'row3').text.split(\"\\n\")\n",
    "            exp = exp_sal_loc[0]\n",
    "        except Exception as e:\n",
    "            exp = np.nan\n",
    "        try:    \n",
    "            sal = exp_sal_loc[1]\n",
    "        except Exception as e:\n",
    "            sal = np.nan\n",
    "        try:\n",
    "            loc = exp_sal_loc[-1]\n",
    "        except Exception as e:\n",
    "            loc = np.nan\n",
    "\n",
    "        job_data.append({\n",
    "            'Title': title,\n",
    "            'Company Name': company_name,\n",
    "            'Rating': rating,\n",
    "            'Reviews': reviews,\n",
    "            'Experience': exp,\n",
    "            'Salary': sal,\n",
    "            'Location': loc\n",
    "        })\n",
    "time.sleep(15)\n",
    "        \n",
    "driver.close()\n"
   ]
  },
  {
   "cell_type": "code",
   "execution_count": 172,
   "id": "62b891ed",
   "metadata": {},
   "outputs": [
    {
     "data": {
      "text/html": [
       "<div>\n",
       "<style scoped>\n",
       "    .dataframe tbody tr th:only-of-type {\n",
       "        vertical-align: middle;\n",
       "    }\n",
       "\n",
       "    .dataframe tbody tr th {\n",
       "        vertical-align: top;\n",
       "    }\n",
       "\n",
       "    .dataframe thead th {\n",
       "        text-align: right;\n",
       "    }\n",
       "</style>\n",
       "<table border=\"1\" class=\"dataframe\">\n",
       "  <thead>\n",
       "    <tr style=\"text-align: right;\">\n",
       "      <th></th>\n",
       "      <th>Title</th>\n",
       "      <th>Company Name</th>\n",
       "      <th>Rating</th>\n",
       "      <th>Reviews</th>\n",
       "      <th>Experience</th>\n",
       "      <th>Salary</th>\n",
       "      <th>Location</th>\n",
       "    </tr>\n",
       "  </thead>\n",
       "  <tbody>\n",
       "    <tr>\n",
       "      <th>0</th>\n",
       "      <td>Data Engineer For Data Science</td>\n",
       "      <td>Agilite Global Solutions</td>\n",
       "      <td>4.6</td>\n",
       "      <td>3 Reviews</td>\n",
       "      <td>5-7 Yrs</td>\n",
       "      <td>Not disclosed</td>\n",
       "      <td>Remote</td>\n",
       "    </tr>\n",
       "    <tr>\n",
       "      <th>1</th>\n",
       "      <td>Data Science (Generative AI) - Senior Manager ...</td>\n",
       "      <td>PwC</td>\n",
       "      <td>3.6</td>\n",
       "      <td>6413 Reviews</td>\n",
       "      <td>12-20 Yrs</td>\n",
       "      <td>Not disclosed</td>\n",
       "      <td>Hyderabad/Secunderabad, Bangalore/Bengaluru</td>\n",
       "    </tr>\n",
       "    <tr>\n",
       "      <th>2</th>\n",
       "      <td>Data Science Consultant</td>\n",
       "      <td>Blue Yonder</td>\n",
       "      <td>4.2</td>\n",
       "      <td>392 Reviews</td>\n",
       "      <td>5-10 Yrs</td>\n",
       "      <td>Not disclosed</td>\n",
       "      <td>Bangalore/Bengaluru</td>\n",
       "    </tr>\n",
       "    <tr>\n",
       "      <th>3</th>\n",
       "      <td>Consultant - Data Science DT</td>\n",
       "      <td>Eli Lilly And Company</td>\n",
       "      <td>4.2</td>\n",
       "      <td>320 Reviews</td>\n",
       "      <td>1-5 Yrs</td>\n",
       "      <td>Not disclosed</td>\n",
       "      <td>Bangalore/Bengaluru</td>\n",
       "    </tr>\n",
       "    <tr>\n",
       "      <th>4</th>\n",
       "      <td>Analyst - Data Science</td>\n",
       "      <td>Marsh McLennan Companies</td>\n",
       "      <td>4.1</td>\n",
       "      <td>465 Reviews</td>\n",
       "      <td>1-3 Yrs</td>\n",
       "      <td>Not disclosed</td>\n",
       "      <td>Mumbai</td>\n",
       "    </tr>\n",
       "  </tbody>\n",
       "</table>\n",
       "</div>"
      ],
      "text/plain": [
       "                                               Title  \\\n",
       "0                     Data Engineer For Data Science   \n",
       "1  Data Science (Generative AI) - Senior Manager ...   \n",
       "2                            Data Science Consultant   \n",
       "3                       Consultant - Data Science DT   \n",
       "4                             Analyst - Data Science   \n",
       "\n",
       "               Company Name Rating       Reviews Experience         Salary  \\\n",
       "0  Agilite Global Solutions    4.6     3 Reviews    5-7 Yrs  Not disclosed   \n",
       "1                       PwC    3.6  6413 Reviews  12-20 Yrs  Not disclosed   \n",
       "2               Blue Yonder    4.2   392 Reviews   5-10 Yrs  Not disclosed   \n",
       "3     Eli Lilly And Company    4.2   320 Reviews    1-5 Yrs  Not disclosed   \n",
       "4  Marsh McLennan Companies    4.1   465 Reviews    1-3 Yrs  Not disclosed   \n",
       "\n",
       "                                      Location  \n",
       "0                                       Remote  \n",
       "1  Hyderabad/Secunderabad, Bangalore/Bengaluru  \n",
       "2                          Bangalore/Bengaluru  \n",
       "3                          Bangalore/Bengaluru  \n",
       "4                                       Mumbai  "
      ]
     },
     "execution_count": 172,
     "metadata": {},
     "output_type": "execute_result"
    }
   ],
   "source": [
    "df = pd.DataFrame(job_data)\n",
    "df.head()\n"
   ]
  },
  {
   "cell_type": "code",
   "execution_count": 173,
   "id": "9643308f",
   "metadata": {},
   "outputs": [
    {
     "data": {
      "text/plain": [
       "(957, 7)"
      ]
     },
     "execution_count": 173,
     "metadata": {},
     "output_type": "execute_result"
    }
   ],
   "source": [
    "df.shape"
   ]
  },
  {
   "cell_type": "code",
   "execution_count": 174,
   "id": "888805b3",
   "metadata": {},
   "outputs": [
    {
     "name": "stdout",
     "output_type": "stream",
     "text": [
      "<class 'pandas.core.frame.DataFrame'>\n",
      "RangeIndex: 957 entries, 0 to 956\n",
      "Data columns (total 7 columns):\n",
      " #   Column        Non-Null Count  Dtype \n",
      "---  ------        --------------  ----- \n",
      " 0   Title         957 non-null    object\n",
      " 1   Company Name  957 non-null    object\n",
      " 2   Rating        683 non-null    object\n",
      " 3   Reviews       683 non-null    object\n",
      " 4   Experience    957 non-null    object\n",
      " 5   Salary        957 non-null    object\n",
      " 6   Location      957 non-null    object\n",
      "dtypes: object(7)\n",
      "memory usage: 52.5+ KB\n"
     ]
    }
   ],
   "source": [
    "df.info()"
   ]
  },
  {
   "cell_type": "code",
   "execution_count": 175,
   "id": "e22664d0",
   "metadata": {},
   "outputs": [
    {
     "data": {
      "text/plain": [
       "Skillety                18\n",
       "Siemens                 13\n",
       "Tiger Analytics         12\n",
       "Coders Brain Pvt Ltd    11\n",
       "Response Informatics    10\n",
       "Deutsche Bank            7\n",
       "TVS Motor                7\n",
       "Aspyra Hr Services       7\n",
       "Essenware                6\n",
       "IBM                      6\n",
       "Name: Company Name, dtype: int64"
      ]
     },
     "execution_count": 175,
     "metadata": {},
     "output_type": "execute_result"
    }
   ],
   "source": [
    "top_10_employers = df['Company Name'].value_counts()[:10]\n",
    "top_10_employers"
   ]
  },
  {
   "cell_type": "code",
   "execution_count": 176,
   "id": "a35fb104",
   "metadata": {},
   "outputs": [
    {
     "data": {
      "text/plain": [
       "274"
      ]
     },
     "execution_count": 176,
     "metadata": {},
     "output_type": "execute_result"
    }
   ],
   "source": [
    "df['Reviews'].isna().sum()"
   ]
  },
  {
   "cell_type": "code",
   "execution_count": null,
   "id": "f0ebe0ff",
   "metadata": {},
   "outputs": [],
   "source": []
  },
  {
   "cell_type": "code",
   "execution_count": 177,
   "id": "927378aa",
   "metadata": {},
   "outputs": [],
   "source": [
    "df[['review', 'text']] = df['Reviews'].str.split(' ', 1, expand=True)"
   ]
  },
  {
   "cell_type": "code",
   "execution_count": 178,
   "id": "d77b9085",
   "metadata": {},
   "outputs": [
    {
     "data": {
      "text/html": [
       "<div>\n",
       "<style scoped>\n",
       "    .dataframe tbody tr th:only-of-type {\n",
       "        vertical-align: middle;\n",
       "    }\n",
       "\n",
       "    .dataframe tbody tr th {\n",
       "        vertical-align: top;\n",
       "    }\n",
       "\n",
       "    .dataframe thead th {\n",
       "        text-align: right;\n",
       "    }\n",
       "</style>\n",
       "<table border=\"1\" class=\"dataframe\">\n",
       "  <thead>\n",
       "    <tr style=\"text-align: right;\">\n",
       "      <th></th>\n",
       "      <th>Title</th>\n",
       "      <th>Company Name</th>\n",
       "      <th>Rating</th>\n",
       "      <th>Reviews</th>\n",
       "      <th>Experience</th>\n",
       "      <th>Salary</th>\n",
       "      <th>Location</th>\n",
       "      <th>review</th>\n",
       "      <th>text</th>\n",
       "    </tr>\n",
       "  </thead>\n",
       "  <tbody>\n",
       "    <tr>\n",
       "      <th>0</th>\n",
       "      <td>Data Engineer For Data Science</td>\n",
       "      <td>Agilite Global Solutions</td>\n",
       "      <td>4.6</td>\n",
       "      <td>3 Reviews</td>\n",
       "      <td>5-7 Yrs</td>\n",
       "      <td>Not disclosed</td>\n",
       "      <td>Remote</td>\n",
       "      <td>3</td>\n",
       "      <td>Reviews</td>\n",
       "    </tr>\n",
       "    <tr>\n",
       "      <th>1</th>\n",
       "      <td>Data Science (Generative AI) - Senior Manager ...</td>\n",
       "      <td>PwC</td>\n",
       "      <td>3.6</td>\n",
       "      <td>6413 Reviews</td>\n",
       "      <td>12-20 Yrs</td>\n",
       "      <td>Not disclosed</td>\n",
       "      <td>Hyderabad/Secunderabad, Bangalore/Bengaluru</td>\n",
       "      <td>6413</td>\n",
       "      <td>Reviews</td>\n",
       "    </tr>\n",
       "    <tr>\n",
       "      <th>2</th>\n",
       "      <td>Data Science Consultant</td>\n",
       "      <td>Blue Yonder</td>\n",
       "      <td>4.2</td>\n",
       "      <td>392 Reviews</td>\n",
       "      <td>5-10 Yrs</td>\n",
       "      <td>Not disclosed</td>\n",
       "      <td>Bangalore/Bengaluru</td>\n",
       "      <td>392</td>\n",
       "      <td>Reviews</td>\n",
       "    </tr>\n",
       "    <tr>\n",
       "      <th>3</th>\n",
       "      <td>Consultant - Data Science DT</td>\n",
       "      <td>Eli Lilly And Company</td>\n",
       "      <td>4.2</td>\n",
       "      <td>320 Reviews</td>\n",
       "      <td>1-5 Yrs</td>\n",
       "      <td>Not disclosed</td>\n",
       "      <td>Bangalore/Bengaluru</td>\n",
       "      <td>320</td>\n",
       "      <td>Reviews</td>\n",
       "    </tr>\n",
       "    <tr>\n",
       "      <th>4</th>\n",
       "      <td>Analyst - Data Science</td>\n",
       "      <td>Marsh McLennan Companies</td>\n",
       "      <td>4.1</td>\n",
       "      <td>465 Reviews</td>\n",
       "      <td>1-3 Yrs</td>\n",
       "      <td>Not disclosed</td>\n",
       "      <td>Mumbai</td>\n",
       "      <td>465</td>\n",
       "      <td>Reviews</td>\n",
       "    </tr>\n",
       "  </tbody>\n",
       "</table>\n",
       "</div>"
      ],
      "text/plain": [
       "                                               Title  \\\n",
       "0                     Data Engineer For Data Science   \n",
       "1  Data Science (Generative AI) - Senior Manager ...   \n",
       "2                            Data Science Consultant   \n",
       "3                       Consultant - Data Science DT   \n",
       "4                             Analyst - Data Science   \n",
       "\n",
       "               Company Name Rating       Reviews Experience         Salary  \\\n",
       "0  Agilite Global Solutions    4.6     3 Reviews    5-7 Yrs  Not disclosed   \n",
       "1                       PwC    3.6  6413 Reviews  12-20 Yrs  Not disclosed   \n",
       "2               Blue Yonder    4.2   392 Reviews   5-10 Yrs  Not disclosed   \n",
       "3     Eli Lilly And Company    4.2   320 Reviews    1-5 Yrs  Not disclosed   \n",
       "4  Marsh McLennan Companies    4.1   465 Reviews    1-3 Yrs  Not disclosed   \n",
       "\n",
       "                                      Location review     text  \n",
       "0                                       Remote      3  Reviews  \n",
       "1  Hyderabad/Secunderabad, Bangalore/Bengaluru   6413  Reviews  \n",
       "2                          Bangalore/Bengaluru    392  Reviews  \n",
       "3                          Bangalore/Bengaluru    320  Reviews  \n",
       "4                                       Mumbai    465  Reviews  "
      ]
     },
     "execution_count": 178,
     "metadata": {},
     "output_type": "execute_result"
    }
   ],
   "source": [
    "df.head()"
   ]
  },
  {
   "cell_type": "code",
   "execution_count": 179,
   "id": "9c6bff70",
   "metadata": {},
   "outputs": [],
   "source": [
    "df = df.drop(['Reviews', 'text'], axis=1)"
   ]
  },
  {
   "cell_type": "code",
   "execution_count": 180,
   "id": "5665056f",
   "metadata": {},
   "outputs": [
    {
     "data": {
      "text/html": [
       "<div>\n",
       "<style scoped>\n",
       "    .dataframe tbody tr th:only-of-type {\n",
       "        vertical-align: middle;\n",
       "    }\n",
       "\n",
       "    .dataframe tbody tr th {\n",
       "        vertical-align: top;\n",
       "    }\n",
       "\n",
       "    .dataframe thead th {\n",
       "        text-align: right;\n",
       "    }\n",
       "</style>\n",
       "<table border=\"1\" class=\"dataframe\">\n",
       "  <thead>\n",
       "    <tr style=\"text-align: right;\">\n",
       "      <th></th>\n",
       "      <th>Title</th>\n",
       "      <th>Company Name</th>\n",
       "      <th>Rating</th>\n",
       "      <th>Experience</th>\n",
       "      <th>Salary</th>\n",
       "      <th>Location</th>\n",
       "      <th>review</th>\n",
       "    </tr>\n",
       "  </thead>\n",
       "  <tbody>\n",
       "    <tr>\n",
       "      <th>0</th>\n",
       "      <td>Data Engineer For Data Science</td>\n",
       "      <td>Agilite Global Solutions</td>\n",
       "      <td>4.6</td>\n",
       "      <td>5-7 Yrs</td>\n",
       "      <td>Not disclosed</td>\n",
       "      <td>Remote</td>\n",
       "      <td>3</td>\n",
       "    </tr>\n",
       "    <tr>\n",
       "      <th>1</th>\n",
       "      <td>Data Science (Generative AI) - Senior Manager ...</td>\n",
       "      <td>PwC</td>\n",
       "      <td>3.6</td>\n",
       "      <td>12-20 Yrs</td>\n",
       "      <td>Not disclosed</td>\n",
       "      <td>Hyderabad/Secunderabad, Bangalore/Bengaluru</td>\n",
       "      <td>6413</td>\n",
       "    </tr>\n",
       "    <tr>\n",
       "      <th>2</th>\n",
       "      <td>Data Science Consultant</td>\n",
       "      <td>Blue Yonder</td>\n",
       "      <td>4.2</td>\n",
       "      <td>5-10 Yrs</td>\n",
       "      <td>Not disclosed</td>\n",
       "      <td>Bangalore/Bengaluru</td>\n",
       "      <td>392</td>\n",
       "    </tr>\n",
       "    <tr>\n",
       "      <th>3</th>\n",
       "      <td>Consultant - Data Science DT</td>\n",
       "      <td>Eli Lilly And Company</td>\n",
       "      <td>4.2</td>\n",
       "      <td>1-5 Yrs</td>\n",
       "      <td>Not disclosed</td>\n",
       "      <td>Bangalore/Bengaluru</td>\n",
       "      <td>320</td>\n",
       "    </tr>\n",
       "    <tr>\n",
       "      <th>4</th>\n",
       "      <td>Analyst - Data Science</td>\n",
       "      <td>Marsh McLennan Companies</td>\n",
       "      <td>4.1</td>\n",
       "      <td>1-3 Yrs</td>\n",
       "      <td>Not disclosed</td>\n",
       "      <td>Mumbai</td>\n",
       "      <td>465</td>\n",
       "    </tr>\n",
       "  </tbody>\n",
       "</table>\n",
       "</div>"
      ],
      "text/plain": [
       "                                               Title  \\\n",
       "0                     Data Engineer For Data Science   \n",
       "1  Data Science (Generative AI) - Senior Manager ...   \n",
       "2                            Data Science Consultant   \n",
       "3                       Consultant - Data Science DT   \n",
       "4                             Analyst - Data Science   \n",
       "\n",
       "               Company Name Rating Experience         Salary  \\\n",
       "0  Agilite Global Solutions    4.6    5-7 Yrs  Not disclosed   \n",
       "1                       PwC    3.6  12-20 Yrs  Not disclosed   \n",
       "2               Blue Yonder    4.2   5-10 Yrs  Not disclosed   \n",
       "3     Eli Lilly And Company    4.2    1-5 Yrs  Not disclosed   \n",
       "4  Marsh McLennan Companies    4.1    1-3 Yrs  Not disclosed   \n",
       "\n",
       "                                      Location review  \n",
       "0                                       Remote      3  \n",
       "1  Hyderabad/Secunderabad, Bangalore/Bengaluru   6413  \n",
       "2                          Bangalore/Bengaluru    392  \n",
       "3                          Bangalore/Bengaluru    320  \n",
       "4                                       Mumbai    465  "
      ]
     },
     "execution_count": 180,
     "metadata": {},
     "output_type": "execute_result"
    }
   ],
   "source": [
    "df.head()"
   ]
  },
  {
   "cell_type": "code",
   "execution_count": null,
   "id": "ce363c05",
   "metadata": {},
   "outputs": [],
   "source": [
    "df[['review', 'text']] = df['Reviews'].str.split(' ', 1, expand=True)"
   ]
  },
  {
   "cell_type": "code",
   "execution_count": 181,
   "id": "b28c7b35",
   "metadata": {},
   "outputs": [],
   "source": [
    "df[['min_exp', 'txt']] = df['Experience'].str.split('-', 1, expand = True)"
   ]
  },
  {
   "cell_type": "code",
   "execution_count": 182,
   "id": "e3f4fd3d",
   "metadata": {},
   "outputs": [
    {
     "data": {
      "text/html": [
       "<div>\n",
       "<style scoped>\n",
       "    .dataframe tbody tr th:only-of-type {\n",
       "        vertical-align: middle;\n",
       "    }\n",
       "\n",
       "    .dataframe tbody tr th {\n",
       "        vertical-align: top;\n",
       "    }\n",
       "\n",
       "    .dataframe thead th {\n",
       "        text-align: right;\n",
       "    }\n",
       "</style>\n",
       "<table border=\"1\" class=\"dataframe\">\n",
       "  <thead>\n",
       "    <tr style=\"text-align: right;\">\n",
       "      <th></th>\n",
       "      <th>Title</th>\n",
       "      <th>Company Name</th>\n",
       "      <th>Rating</th>\n",
       "      <th>Experience</th>\n",
       "      <th>Salary</th>\n",
       "      <th>Location</th>\n",
       "      <th>review</th>\n",
       "      <th>min_exp</th>\n",
       "      <th>txt</th>\n",
       "    </tr>\n",
       "  </thead>\n",
       "  <tbody>\n",
       "    <tr>\n",
       "      <th>0</th>\n",
       "      <td>Data Engineer For Data Science</td>\n",
       "      <td>Agilite Global Solutions</td>\n",
       "      <td>4.6</td>\n",
       "      <td>5-7 Yrs</td>\n",
       "      <td>Not disclosed</td>\n",
       "      <td>Remote</td>\n",
       "      <td>3</td>\n",
       "      <td>5</td>\n",
       "      <td>7 Yrs</td>\n",
       "    </tr>\n",
       "    <tr>\n",
       "      <th>1</th>\n",
       "      <td>Data Science (Generative AI) - Senior Manager ...</td>\n",
       "      <td>PwC</td>\n",
       "      <td>3.6</td>\n",
       "      <td>12-20 Yrs</td>\n",
       "      <td>Not disclosed</td>\n",
       "      <td>Hyderabad/Secunderabad, Bangalore/Bengaluru</td>\n",
       "      <td>6413</td>\n",
       "      <td>12</td>\n",
       "      <td>20 Yrs</td>\n",
       "    </tr>\n",
       "    <tr>\n",
       "      <th>2</th>\n",
       "      <td>Data Science Consultant</td>\n",
       "      <td>Blue Yonder</td>\n",
       "      <td>4.2</td>\n",
       "      <td>5-10 Yrs</td>\n",
       "      <td>Not disclosed</td>\n",
       "      <td>Bangalore/Bengaluru</td>\n",
       "      <td>392</td>\n",
       "      <td>5</td>\n",
       "      <td>10 Yrs</td>\n",
       "    </tr>\n",
       "    <tr>\n",
       "      <th>3</th>\n",
       "      <td>Consultant - Data Science DT</td>\n",
       "      <td>Eli Lilly And Company</td>\n",
       "      <td>4.2</td>\n",
       "      <td>1-5 Yrs</td>\n",
       "      <td>Not disclosed</td>\n",
       "      <td>Bangalore/Bengaluru</td>\n",
       "      <td>320</td>\n",
       "      <td>1</td>\n",
       "      <td>5 Yrs</td>\n",
       "    </tr>\n",
       "    <tr>\n",
       "      <th>4</th>\n",
       "      <td>Analyst - Data Science</td>\n",
       "      <td>Marsh McLennan Companies</td>\n",
       "      <td>4.1</td>\n",
       "      <td>1-3 Yrs</td>\n",
       "      <td>Not disclosed</td>\n",
       "      <td>Mumbai</td>\n",
       "      <td>465</td>\n",
       "      <td>1</td>\n",
       "      <td>3 Yrs</td>\n",
       "    </tr>\n",
       "  </tbody>\n",
       "</table>\n",
       "</div>"
      ],
      "text/plain": [
       "                                               Title  \\\n",
       "0                     Data Engineer For Data Science   \n",
       "1  Data Science (Generative AI) - Senior Manager ...   \n",
       "2                            Data Science Consultant   \n",
       "3                       Consultant - Data Science DT   \n",
       "4                             Analyst - Data Science   \n",
       "\n",
       "               Company Name Rating Experience         Salary  \\\n",
       "0  Agilite Global Solutions    4.6    5-7 Yrs  Not disclosed   \n",
       "1                       PwC    3.6  12-20 Yrs  Not disclosed   \n",
       "2               Blue Yonder    4.2   5-10 Yrs  Not disclosed   \n",
       "3     Eli Lilly And Company    4.2    1-5 Yrs  Not disclosed   \n",
       "4  Marsh McLennan Companies    4.1    1-3 Yrs  Not disclosed   \n",
       "\n",
       "                                      Location review min_exp     txt  \n",
       "0                                       Remote      3       5   7 Yrs  \n",
       "1  Hyderabad/Secunderabad, Bangalore/Bengaluru   6413      12  20 Yrs  \n",
       "2                          Bangalore/Bengaluru    392       5  10 Yrs  \n",
       "3                          Bangalore/Bengaluru    320       1   5 Yrs  \n",
       "4                                       Mumbai    465       1   3 Yrs  "
      ]
     },
     "execution_count": 182,
     "metadata": {},
     "output_type": "execute_result"
    }
   ],
   "source": [
    "df.head()"
   ]
  },
  {
   "cell_type": "code",
   "execution_count": 183,
   "id": "59f69b80",
   "metadata": {},
   "outputs": [],
   "source": [
    "df = df.drop(['Experience','txt'], axis=1)"
   ]
  },
  {
   "cell_type": "code",
   "execution_count": 185,
   "id": "34e50e7e",
   "metadata": {},
   "outputs": [
    {
     "data": {
      "text/html": [
       "<div>\n",
       "<style scoped>\n",
       "    .dataframe tbody tr th:only-of-type {\n",
       "        vertical-align: middle;\n",
       "    }\n",
       "\n",
       "    .dataframe tbody tr th {\n",
       "        vertical-align: top;\n",
       "    }\n",
       "\n",
       "    .dataframe thead th {\n",
       "        text-align: right;\n",
       "    }\n",
       "</style>\n",
       "<table border=\"1\" class=\"dataframe\">\n",
       "  <thead>\n",
       "    <tr style=\"text-align: right;\">\n",
       "      <th></th>\n",
       "      <th>Title</th>\n",
       "      <th>Company Name</th>\n",
       "      <th>Rating</th>\n",
       "      <th>Salary</th>\n",
       "      <th>Location</th>\n",
       "      <th>review</th>\n",
       "      <th>min_exp</th>\n",
       "    </tr>\n",
       "  </thead>\n",
       "  <tbody>\n",
       "    <tr>\n",
       "      <th>0</th>\n",
       "      <td>Data Engineer For Data Science</td>\n",
       "      <td>Agilite Global Solutions</td>\n",
       "      <td>4.6</td>\n",
       "      <td>Not disclosed</td>\n",
       "      <td>Remote</td>\n",
       "      <td>3</td>\n",
       "      <td>5</td>\n",
       "    </tr>\n",
       "    <tr>\n",
       "      <th>1</th>\n",
       "      <td>Data Science (Generative AI) - Senior Manager ...</td>\n",
       "      <td>PwC</td>\n",
       "      <td>3.6</td>\n",
       "      <td>Not disclosed</td>\n",
       "      <td>Hyderabad/Secunderabad, Bangalore/Bengaluru</td>\n",
       "      <td>6413</td>\n",
       "      <td>12</td>\n",
       "    </tr>\n",
       "    <tr>\n",
       "      <th>2</th>\n",
       "      <td>Data Science Consultant</td>\n",
       "      <td>Blue Yonder</td>\n",
       "      <td>4.2</td>\n",
       "      <td>Not disclosed</td>\n",
       "      <td>Bangalore/Bengaluru</td>\n",
       "      <td>392</td>\n",
       "      <td>5</td>\n",
       "    </tr>\n",
       "    <tr>\n",
       "      <th>3</th>\n",
       "      <td>Consultant - Data Science DT</td>\n",
       "      <td>Eli Lilly And Company</td>\n",
       "      <td>4.2</td>\n",
       "      <td>Not disclosed</td>\n",
       "      <td>Bangalore/Bengaluru</td>\n",
       "      <td>320</td>\n",
       "      <td>1</td>\n",
       "    </tr>\n",
       "    <tr>\n",
       "      <th>4</th>\n",
       "      <td>Analyst - Data Science</td>\n",
       "      <td>Marsh McLennan Companies</td>\n",
       "      <td>4.1</td>\n",
       "      <td>Not disclosed</td>\n",
       "      <td>Mumbai</td>\n",
       "      <td>465</td>\n",
       "      <td>1</td>\n",
       "    </tr>\n",
       "  </tbody>\n",
       "</table>\n",
       "</div>"
      ],
      "text/plain": [
       "                                               Title  \\\n",
       "0                     Data Engineer For Data Science   \n",
       "1  Data Science (Generative AI) - Senior Manager ...   \n",
       "2                            Data Science Consultant   \n",
       "3                       Consultant - Data Science DT   \n",
       "4                             Analyst - Data Science   \n",
       "\n",
       "               Company Name Rating         Salary  \\\n",
       "0  Agilite Global Solutions    4.6  Not disclosed   \n",
       "1                       PwC    3.6  Not disclosed   \n",
       "2               Blue Yonder    4.2  Not disclosed   \n",
       "3     Eli Lilly And Company    4.2  Not disclosed   \n",
       "4  Marsh McLennan Companies    4.1  Not disclosed   \n",
       "\n",
       "                                      Location review min_exp  \n",
       "0                                       Remote      3       5  \n",
       "1  Hyderabad/Secunderabad, Bangalore/Bengaluru   6413      12  \n",
       "2                          Bangalore/Bengaluru    392       5  \n",
       "3                          Bangalore/Bengaluru    320       1  \n",
       "4                                       Mumbai    465       1  "
      ]
     },
     "execution_count": 185,
     "metadata": {},
     "output_type": "execute_result"
    }
   ],
   "source": [
    "df.head()"
   ]
  },
  {
   "cell_type": "markdown",
   "id": "c1a5ab0e",
   "metadata": {},
   "source": [
    "### Top 10 job providing locations"
   ]
  },
  {
   "cell_type": "code",
   "execution_count": 396,
   "id": "384d751a",
   "metadata": {},
   "outputs": [],
   "source": [
    "top_5_location = df.Location.value_counts()[:6].reset_index()"
   ]
  },
  {
   "cell_type": "code",
   "execution_count": 397,
   "id": "c2d48bdd",
   "metadata": {},
   "outputs": [
    {
     "data": {
      "text/html": [
       "<div>\n",
       "<style scoped>\n",
       "    .dataframe tbody tr th:only-of-type {\n",
       "        vertical-align: middle;\n",
       "    }\n",
       "\n",
       "    .dataframe tbody tr th {\n",
       "        vertical-align: top;\n",
       "    }\n",
       "\n",
       "    .dataframe thead th {\n",
       "        text-align: right;\n",
       "    }\n",
       "</style>\n",
       "<table border=\"1\" class=\"dataframe\">\n",
       "  <thead>\n",
       "    <tr style=\"text-align: right;\">\n",
       "      <th></th>\n",
       "      <th>Location</th>\n",
       "      <th>job_count</th>\n",
       "    </tr>\n",
       "  </thead>\n",
       "  <tbody>\n",
       "    <tr>\n",
       "      <th>0</th>\n",
       "      <td>Bangalore/Bengaluru</td>\n",
       "      <td>245</td>\n",
       "    </tr>\n",
       "    <tr>\n",
       "      <th>1</th>\n",
       "      <td>Remote</td>\n",
       "      <td>66</td>\n",
       "    </tr>\n",
       "    <tr>\n",
       "      <th>2</th>\n",
       "      <td>Hyderabad/Secunderabad</td>\n",
       "      <td>64</td>\n",
       "    </tr>\n",
       "    <tr>\n",
       "      <th>3</th>\n",
       "      <td>Mumbai</td>\n",
       "      <td>56</td>\n",
       "    </tr>\n",
       "    <tr>\n",
       "      <th>4</th>\n",
       "      <td>Pune</td>\n",
       "      <td>46</td>\n",
       "    </tr>\n",
       "    <tr>\n",
       "      <th>5</th>\n",
       "      <td>Gurgaon/Gurugram</td>\n",
       "      <td>37</td>\n",
       "    </tr>\n",
       "  </tbody>\n",
       "</table>\n",
       "</div>"
      ],
      "text/plain": [
       "                 Location  job_count\n",
       "0     Bangalore/Bengaluru        245\n",
       "1                  Remote         66\n",
       "2  Hyderabad/Secunderabad         64\n",
       "3                  Mumbai         56\n",
       "4                    Pune         46\n",
       "5        Gurgaon/Gurugram         37"
      ]
     },
     "execution_count": 397,
     "metadata": {},
     "output_type": "execute_result"
    }
   ],
   "source": [
    "loc_jobs = pd.DataFrame(top_5_location).rename(columns={'index':'Location', 'Location':'job_count'})\n",
    "loc_jobs"
   ]
  },
  {
   "cell_type": "code",
   "execution_count": 398,
   "id": "fb184bdd",
   "metadata": {},
   "outputs": [
    {
     "data": {
      "image/png": "[encoded data removed]",
      "text/plain": [
       "<Figure size 576x432 with 1 Axes>"
      ]
     },
     "metadata": {
      "needs_background": "light"
     },
     "output_type": "display_data"
    }
   ],
   "source": [
    "\n",
    "plt.figure(figsize=(8, 6))\n",
    "sns.barplot(loc_jobs['job_count'], loc_jobs['Location'])\n",
    "plt.xlabel('Value')\n",
    "plt.ylabel('Category')\n",
    "plt.title('Horizontal Bar Chart')\n",
    "plt.show()"
   ]
  },
  {
   "cell_type": "markdown",
   "id": "08270d09",
   "metadata": {},
   "source": [
    "### Most common job titles   (Top 10)"
   ]
  },
  {
   "cell_type": "code",
   "execution_count": 367,
   "id": "4c212dac",
   "metadata": {},
   "outputs": [
    {
     "data": {
      "text/html": [
       "<div>\n",
       "<style scoped>\n",
       "    .dataframe tbody tr th:only-of-type {\n",
       "        vertical-align: middle;\n",
       "    }\n",
       "\n",
       "    .dataframe tbody tr th {\n",
       "        vertical-align: top;\n",
       "    }\n",
       "\n",
       "    .dataframe thead th {\n",
       "        text-align: right;\n",
       "    }\n",
       "</style>\n",
       "<table border=\"1\" class=\"dataframe\">\n",
       "  <thead>\n",
       "    <tr style=\"text-align: right;\">\n",
       "      <th></th>\n",
       "      <th>Title</th>\n",
       "      <th>job_count</th>\n",
       "    </tr>\n",
       "  </thead>\n",
       "  <tbody>\n",
       "    <tr>\n",
       "      <th>0</th>\n",
       "      <td>Data Scientist</td>\n",
       "      <td>131</td>\n",
       "    </tr>\n",
       "    <tr>\n",
       "      <th>1</th>\n",
       "      <td>Data Analyst</td>\n",
       "      <td>107</td>\n",
       "    </tr>\n",
       "    <tr>\n",
       "      <th>2</th>\n",
       "      <td>Senior Data Scientist</td>\n",
       "      <td>33</td>\n",
       "    </tr>\n",
       "    <tr>\n",
       "      <th>3</th>\n",
       "      <td>Senior Data Analyst</td>\n",
       "      <td>29</td>\n",
       "    </tr>\n",
       "    <tr>\n",
       "      <th>4</th>\n",
       "      <td>Lead Data Scientist</td>\n",
       "      <td>17</td>\n",
       "    </tr>\n",
       "    <tr>\n",
       "      <th>5</th>\n",
       "      <td>Data Science Manager</td>\n",
       "      <td>12</td>\n",
       "    </tr>\n",
       "    <tr>\n",
       "      <th>6</th>\n",
       "      <td>Data Science Engineer</td>\n",
       "      <td>10</td>\n",
       "    </tr>\n",
       "    <tr>\n",
       "      <th>7</th>\n",
       "      <td>Data Science Professional</td>\n",
       "      <td>9</td>\n",
       "    </tr>\n",
       "    <tr>\n",
       "      <th>8</th>\n",
       "      <td>Lead Data Analyst</td>\n",
       "      <td>7</td>\n",
       "    </tr>\n",
       "    <tr>\n",
       "      <th>9</th>\n",
       "      <td>Sr. Data Scientist</td>\n",
       "      <td>6</td>\n",
       "    </tr>\n",
       "  </tbody>\n",
       "</table>\n",
       "</div>"
      ],
      "text/plain": [
       "                       Title  job_count\n",
       "0             Data Scientist        131\n",
       "1               Data Analyst        107\n",
       "2      Senior Data Scientist         33\n",
       "3        Senior Data Analyst         29\n",
       "4        Lead Data Scientist         17\n",
       "5       Data Science Manager         12\n",
       "6      Data Science Engineer         10\n",
       "7  Data Science Professional          9\n",
       "8          Lead Data Analyst          7\n",
       "9         Sr. Data Scientist          6"
      ]
     },
     "execution_count": 367,
     "metadata": {},
     "output_type": "execute_result"
    }
   ],
   "source": [
    "job_titles_common = pd.DataFrame(df.Title.value_counts()[:10].reset_index()).rename(columns={'index':'Title','Title':'job_count'})\n",
    "job_titles_common"
   ]
  },
  {
   "cell_type": "code",
   "execution_count": 370,
   "id": "ebba177d",
   "metadata": {},
   "outputs": [
    {
     "data": {
      "image/png": "[encoded data removed]",
      "text/plain": [
       "<Figure size 576x432 with 1 Axes>"
      ]
     },
     "metadata": {
      "needs_background": "light"
     },
     "output_type": "display_data"
    }
   ],
   "source": [
    "plt.figure(figsize=(8,6))\n",
    "\n",
    "sns.barplot(data = job_titles_common, x='Title', y='job_count')\n",
    "plt.ylabel('Job Count')\n",
    "plt.xlabel('Job Title')\n",
    "plt.xticks(rotation=90)\n",
    "plt.title('Most common jobs')\n",
    "plt.show()"
   ]
  },
  {
   "cell_type": "markdown",
   "id": "60e5eb9b",
   "metadata": {},
   "source": [
    "##### Here we can see most of the jobs are for Data Scientist followed by Data Analyst"
   ]
  },
  {
   "cell_type": "markdown",
   "id": "b60fd79b",
   "metadata": {},
   "source": [
    "### Salary"
   ]
  },
  {
   "cell_type": "code",
   "execution_count": 237,
   "id": "9628a801",
   "metadata": {},
   "outputs": [
    {
     "data": {
      "text/html": [
       "<div>\n",
       "<style scoped>\n",
       "    .dataframe tbody tr th:only-of-type {\n",
       "        vertical-align: middle;\n",
       "    }\n",
       "\n",
       "    .dataframe tbody tr th {\n",
       "        vertical-align: top;\n",
       "    }\n",
       "\n",
       "    .dataframe thead th {\n",
       "        text-align: right;\n",
       "    }\n",
       "</style>\n",
       "<table border=\"1\" class=\"dataframe\">\n",
       "  <thead>\n",
       "    <tr style=\"text-align: right;\">\n",
       "      <th></th>\n",
       "      <th>Salary</th>\n",
       "    </tr>\n",
       "  </thead>\n",
       "  <tbody>\n",
       "    <tr>\n",
       "      <th>Not disclosed</th>\n",
       "      <td>810</td>\n",
       "    </tr>\n",
       "    <tr>\n",
       "      <th>Unpaid</th>\n",
       "      <td>13</td>\n",
       "    </tr>\n",
       "    <tr>\n",
       "      <th>20-35 Lacs PA</th>\n",
       "      <td>9</td>\n",
       "    </tr>\n",
       "    <tr>\n",
       "      <th>10-20 Lacs PA</th>\n",
       "      <td>6</td>\n",
       "    </tr>\n",
       "    <tr>\n",
       "      <th>12-20 Lacs PA</th>\n",
       "      <td>4</td>\n",
       "    </tr>\n",
       "  </tbody>\n",
       "</table>\n",
       "</div>"
      ],
      "text/plain": [
       "               Salary\n",
       "Not disclosed     810\n",
       "Unpaid             13\n",
       "20-35 Lacs PA       9\n",
       "10-20 Lacs PA       6\n",
       "12-20 Lacs PA       4"
      ]
     },
     "execution_count": 237,
     "metadata": {},
     "output_type": "execute_result"
    }
   ],
   "source": [
    " pd.DataFrame(df.Salary.value_counts())[:5]"
   ]
  },
  {
   "cell_type": "markdown",
   "id": "320098db",
   "metadata": {},
   "source": [
    "##### Most of the companies in the dataset doesnot disclose the salary offered"
   ]
  },
  {
   "cell_type": "markdown",
   "id": "ee412ba2",
   "metadata": {},
   "source": [
    "### Top 10 job offering companies"
   ]
  },
  {
   "cell_type": "code",
   "execution_count": 373,
   "id": "1b5c01dc",
   "metadata": {},
   "outputs": [
    {
     "data": {
      "text/html": [
       "<div>\n",
       "<style scoped>\n",
       "    .dataframe tbody tr th:only-of-type {\n",
       "        vertical-align: middle;\n",
       "    }\n",
       "\n",
       "    .dataframe tbody tr th {\n",
       "        vertical-align: top;\n",
       "    }\n",
       "\n",
       "    .dataframe thead th {\n",
       "        text-align: right;\n",
       "    }\n",
       "</style>\n",
       "<table border=\"1\" class=\"dataframe\">\n",
       "  <thead>\n",
       "    <tr style=\"text-align: right;\">\n",
       "      <th></th>\n",
       "      <th>Company Name</th>\n",
       "    </tr>\n",
       "  </thead>\n",
       "  <tbody>\n",
       "    <tr>\n",
       "      <th>Skillety</th>\n",
       "      <td>18</td>\n",
       "    </tr>\n",
       "    <tr>\n",
       "      <th>Siemens</th>\n",
       "      <td>13</td>\n",
       "    </tr>\n",
       "    <tr>\n",
       "      <th>Tiger Analytics</th>\n",
       "      <td>12</td>\n",
       "    </tr>\n",
       "    <tr>\n",
       "      <th>Coders Brain Pvt Ltd</th>\n",
       "      <td>11</td>\n",
       "    </tr>\n",
       "    <tr>\n",
       "      <th>Response Informatics</th>\n",
       "      <td>10</td>\n",
       "    </tr>\n",
       "    <tr>\n",
       "      <th>Deutsche Bank</th>\n",
       "      <td>7</td>\n",
       "    </tr>\n",
       "    <tr>\n",
       "      <th>TVS Motor</th>\n",
       "      <td>7</td>\n",
       "    </tr>\n",
       "    <tr>\n",
       "      <th>Aspyra Hr Services</th>\n",
       "      <td>7</td>\n",
       "    </tr>\n",
       "    <tr>\n",
       "      <th>Essenware</th>\n",
       "      <td>6</td>\n",
       "    </tr>\n",
       "    <tr>\n",
       "      <th>IBM</th>\n",
       "      <td>6</td>\n",
       "    </tr>\n",
       "  </tbody>\n",
       "</table>\n",
       "</div>"
      ],
      "text/plain": [
       "                      Company Name\n",
       "Skillety                        18\n",
       "Siemens                         13\n",
       "Tiger Analytics                 12\n",
       "Coders Brain Pvt Ltd            11\n",
       "Response Informatics            10\n",
       "Deutsche Bank                    7\n",
       "TVS Motor                        7\n",
       "Aspyra Hr Services               7\n",
       "Essenware                        6\n",
       "IBM                              6"
      ]
     },
     "execution_count": 373,
     "metadata": {},
     "output_type": "execute_result"
    }
   ],
   "source": [
    "top_10_companies = df['Company Name'].value_counts()[:10] \n",
    "pd.DataFrame(top_10_companies)"
   ]
  },
  {
   "cell_type": "markdown",
   "id": "83857e6d",
   "metadata": {},
   "source": [
    "### Rating Distribution"
   ]
  },
  {
   "cell_type": "code",
   "execution_count": 249,
   "id": "d2a949f0",
   "metadata": {},
   "outputs": [
    {
     "data": {
      "image/png": "[encoded data removed]",
      "text/plain": [
       "<Figure size 432x288 with 1 Axes>"
      ]
     },
     "metadata": {
      "needs_background": "light"
     },
     "output_type": "display_data"
    }
   ],
   "source": [
    "sns.histplot(df['Rating'].astype('float'))\n",
    "plt.title('Rating Distribution')\n",
    "plt.show()"
   ]
  },
  {
   "cell_type": "markdown",
   "id": "dc229c46",
   "metadata": {},
   "source": [
    "##### Most of the companies have ratings between 3.5 to 4.5."
   ]
  },
  {
   "cell_type": "code",
   "execution_count": 381,
   "id": "e4420e5b",
   "metadata": {
    "scrolled": true
   },
   "outputs": [
    {
     "data": {
      "text/plain": [
       "array(['5', '12', '1', '7', '3', '8', '10', '3 months duration', '2', '4',\n",
       "       '15', '0', '6', 'No fixed duration', '6 months duration', '11',\n",
       "       '9', 'MS/M.Sc(Science), MCA, B.Tech/B.E.', '13', '16', '18 Nov',\n",
       "       'Any Graduate', '1 month duration', '5 months duration'],\n",
       "      dtype=object)"
      ]
     },
     "execution_count": 381,
     "metadata": {},
     "output_type": "execute_result"
    }
   ],
   "source": [
    "aa = df.min_exp.unique()\n",
    "aa"
   ]
  },
  {
   "cell_type": "code",
   "execution_count": 383,
   "id": "4b9064dc",
   "metadata": {},
   "outputs": [],
   "source": [
    "# filtering or the numeric values present in the min_exp column\n",
    "numeric = []\n",
    "for i in list(aa):\n",
    "    try:\n",
    "        if int(i):\n",
    "            numeric.append(i)\n",
    "    except:\n",
    "        pass"
   ]
  },
  {
   "cell_type": "code",
   "execution_count": 384,
   "id": "c8cf0e3b",
   "metadata": {},
   "outputs": [
    {
     "data": {
      "text/plain": [
       "['5',\n",
       " '12',\n",
       " '1',\n",
       " '7',\n",
       " '3',\n",
       " '8',\n",
       " '10',\n",
       " '2',\n",
       " '4',\n",
       " '15',\n",
       " '6',\n",
       " '11',\n",
       " '9',\n",
       " '13',\n",
       " '16']"
      ]
     },
     "execution_count": 384,
     "metadata": {},
     "output_type": "execute_result"
    }
   ],
   "source": [
    "numeric"
   ]
  },
  {
   "cell_type": "code",
   "execution_count": 385,
   "id": "8631f1e3",
   "metadata": {},
   "outputs": [],
   "source": [
    "# cleaning the dataframe for min_exp \n",
    "exp_filtered = df[df['min_exp'].isin(numeric)]\n"
   ]
  },
  {
   "cell_type": "code",
   "execution_count": 378,
   "id": "9d98cb30",
   "metadata": {},
   "outputs": [],
   "source": [
    "# converting the min_exp values to integer data type\n",
    "from warnings import filterwarnings\n",
    "filterwarnings('ignore')\n",
    "\n",
    "\n",
    "exp_filtered['min_exp'] = exp_filtered.min_exp.astype('int')"
   ]
  },
  {
   "cell_type": "code",
   "execution_count": 379,
   "id": "fb8a68c6",
   "metadata": {},
   "outputs": [
    {
     "data": {
      "text/plain": [
       "array([ 5, 12,  1,  7,  3,  8, 10,  2,  4, 15,  6, 11,  9, 13, 16])"
      ]
     },
     "execution_count": 379,
     "metadata": {},
     "output_type": "execute_result"
    }
   ],
   "source": [
    "# checking the unique values in the min_exp column\n",
    "exp_filtered.min_exp.unique()"
   ]
  },
  {
   "cell_type": "code",
   "execution_count": 386,
   "id": "7a0cfba2",
   "metadata": {},
   "outputs": [],
   "source": [
    "# calculating the average of minimum job experience needed to apply for a particular job title\n",
    "\n",
    "job_by_exp = exp_filtered.groupby(['Title'])['min_exp'].mean()"
   ]
  },
  {
   "cell_type": "code",
   "execution_count": 353,
   "id": "f6e2ab7b",
   "metadata": {},
   "outputs": [],
   "source": [
    "job_exp_df = job_by_exp.reset_index().sort_values(by='min_exp').reset_index(drop=True)"
   ]
  },
  {
   "cell_type": "code",
   "execution_count": 354,
   "id": "29625ff3",
   "metadata": {},
   "outputs": [
    {
     "data": {
      "text/html": [
       "<div>\n",
       "<style scoped>\n",
       "    .dataframe tbody tr th:only-of-type {\n",
       "        vertical-align: middle;\n",
       "    }\n",
       "\n",
       "    .dataframe tbody tr th {\n",
       "        vertical-align: top;\n",
       "    }\n",
       "\n",
       "    .dataframe thead th {\n",
       "        text-align: right;\n",
       "    }\n",
       "</style>\n",
       "<table border=\"1\" class=\"dataframe\">\n",
       "  <thead>\n",
       "    <tr style=\"text-align: right;\">\n",
       "      <th></th>\n",
       "      <th>Title</th>\n",
       "      <th>min_exp</th>\n",
       "    </tr>\n",
       "  </thead>\n",
       "  <tbody>\n",
       "    <tr>\n",
       "      <th>0</th>\n",
       "      <td>Research Associate - Data Analytics (Business ...</td>\n",
       "      <td>1.0</td>\n",
       "    </tr>\n",
       "    <tr>\n",
       "      <th>1</th>\n",
       "      <td>Consultant - Data Science DT</td>\n",
       "      <td>1.0</td>\n",
       "    </tr>\n",
       "    <tr>\n",
       "      <th>2</th>\n",
       "      <td>Online Data Analyst India</td>\n",
       "      <td>1.0</td>\n",
       "    </tr>\n",
       "    <tr>\n",
       "      <th>3</th>\n",
       "      <td>Data science</td>\n",
       "      <td>1.0</td>\n",
       "    </tr>\n",
       "    <tr>\n",
       "      <th>4</th>\n",
       "      <td>Data science with Statistics Professional</td>\n",
       "      <td>1.0</td>\n",
       "    </tr>\n",
       "    <tr>\n",
       "      <th>...</th>\n",
       "      <td>...</td>\n",
       "      <td>...</td>\n",
       "    </tr>\n",
       "    <tr>\n",
       "      <th>470</th>\n",
       "      <td>Director - DATA &amp; Analytics</td>\n",
       "      <td>15.0</td>\n",
       "    </tr>\n",
       "    <tr>\n",
       "      <th>471</th>\n",
       "      <td>Senior Principal Data &amp; Analytics Platform Arc...</td>\n",
       "      <td>15.0</td>\n",
       "    </tr>\n",
       "    <tr>\n",
       "      <th>472</th>\n",
       "      <td>Data Analytics Manager - II</td>\n",
       "      <td>15.0</td>\n",
       "    </tr>\n",
       "    <tr>\n",
       "      <th>473</th>\n",
       "      <td>Data Architecture Principles Analytics and Mod...</td>\n",
       "      <td>15.0</td>\n",
       "    </tr>\n",
       "    <tr>\n",
       "      <th>474</th>\n",
       "      <td>Data Analytics - Practice Head</td>\n",
       "      <td>16.0</td>\n",
       "    </tr>\n",
       "  </tbody>\n",
       "</table>\n",
       "<p>475 rows × 2 columns</p>\n",
       "</div>"
      ],
      "text/plain": [
       "                                                 Title  min_exp\n",
       "0    Research Associate - Data Analytics (Business ...      1.0\n",
       "1                         Consultant - Data Science DT      1.0\n",
       "2                            Online Data Analyst India      1.0\n",
       "3                                         Data science      1.0\n",
       "4            Data science with Statistics Professional      1.0\n",
       "..                                                 ...      ...\n",
       "470                        Director - DATA & Analytics     15.0\n",
       "471  Senior Principal Data & Analytics Platform Arc...     15.0\n",
       "472                        Data Analytics Manager - II     15.0\n",
       "473  Data Architecture Principles Analytics and Mod...     15.0\n",
       "474                     Data Analytics - Practice Head     16.0\n",
       "\n",
       "[475 rows x 2 columns]"
      ]
     },
     "execution_count": 354,
     "metadata": {},
     "output_type": "execute_result"
    }
   ],
   "source": [
    "job_exp_df"
   ]
  },
  {
   "cell_type": "code",
   "execution_count": 361,
   "id": "5dc66fc3",
   "metadata": {},
   "outputs": [
    {
     "data": {
      "text/html": [
       "<div>\n",
       "<style scoped>\n",
       "    .dataframe tbody tr th:only-of-type {\n",
       "        vertical-align: middle;\n",
       "    }\n",
       "\n",
       "    .dataframe tbody tr th {\n",
       "        vertical-align: top;\n",
       "    }\n",
       "\n",
       "    .dataframe thead th {\n",
       "        text-align: right;\n",
       "    }\n",
       "</style>\n",
       "<table border=\"1\" class=\"dataframe\">\n",
       "  <thead>\n",
       "    <tr style=\"text-align: right;\">\n",
       "      <th></th>\n",
       "      <th>Title</th>\n",
       "      <th>min_exp</th>\n",
       "    </tr>\n",
       "  </thead>\n",
       "  <tbody>\n",
       "    <tr>\n",
       "      <th>127</th>\n",
       "      <td>Data Analyst</td>\n",
       "      <td>2.554217</td>\n",
       "    </tr>\n",
       "    <tr>\n",
       "      <th>203</th>\n",
       "      <td>Data Scientist</td>\n",
       "      <td>3.798387</td>\n",
       "    </tr>\n",
       "  </tbody>\n",
       "</table>\n",
       "</div>"
      ],
      "text/plain": [
       "              Title   min_exp\n",
       "127    Data Analyst  2.554217\n",
       "203  Data Scientist  3.798387"
      ]
     },
     "execution_count": 361,
     "metadata": {},
     "output_type": "execute_result"
    }
   ],
   "source": [
    "analyst_scientist = job_exp_df[(job_exp_df['Title'] == 'Data Scientist') | (job_exp_df['Title'] == 'Data Analyst')]\n",
    "analyst_scientist"
   ]
  },
  {
   "cell_type": "code",
   "execution_count": 389,
   "id": "1eaaf595",
   "metadata": {},
   "outputs": [
    {
     "data": {
      "image/png": "[encoded data removed]",
      "text/plain": [
       "<Figure size 576x432 with 1 Axes>"
      ]
     },
     "metadata": {
      "needs_background": "light"
     },
     "output_type": "display_data"
    }
   ],
   "source": [
    "plt.figure(figsize=(8,6))\n",
    "\n",
    "sns.barplot(data = analyst_scientist, x='Title', y='min_exp', color='green')\n",
    "plt.ylabel('Average_minimim_experience')\n",
    "plt.xlabel('Job Title')\n",
    "plt.title('Average minimum exp by job title')\n",
    "plt.show()"
   ]
  },
  {
   "cell_type": "markdown",
   "id": "43416f54",
   "metadata": {},
   "source": [
    "##### Here We can easily conclude that on an average minimum job experience needed for Data Analyst is around 2.5years but for Data Scientist jobs applicant needs 3.5 years of experience\n",
    "\n",
    "\n",
    "##### This means Data Scientists needs more experience than Data analyst job roles "
   ]
  },
  {
   "cell_type": "code",
   "execution_count": null,
   "id": "c7c9d8fb",
   "metadata": {},
   "outputs": [],
   "source": []
  }
 ],
 "metadata": {
  "kernelspec": {
   "display_name": "Python 3 (ipykernel)",
   "language": "python",
   "name": "python3"
  },
  "language_info": {
   "codemirror_mode": {
    "name": "ipython",
    "version": 3
   },
   "file_extension": ".py",
   "mimetype": "text/x-python",
   "name": "python",
   "nbconvert_exporter": "python",
   "pygments_lexer": "ipython3",
   "version": "3.9.12"
  }
 },
 "nbformat": 4,
 "nbformat_minor": 5
}
